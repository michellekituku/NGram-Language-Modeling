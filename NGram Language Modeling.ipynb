{
 "cells": [
  {
   "cell_type": "markdown",
   "metadata": {
    "id": "34pV-Ov2IpqS"
   },
   "source": [
    "## **Exploring Language Modeling with N-Gram Sizes and Smoothing Techniques**\n",
    "#### **Step 1: Data Preparation**\n"
   ]
  },
  {
   "cell_type": "code",
   "execution_count": 1,
   "metadata": {
    "colab": {
     "base_uri": "https://localhost:8080/",
     "height": 206
    },
    "id": "qTj_n9AeJjlS",
    "outputId": "a75cc020-a339-47ec-90d2-31c05aa0096d"
   },
   "outputs": [
    {
     "data": {
      "text/html": [
       "<div>\n",
       "<style scoped>\n",
       "    .dataframe tbody tr th:only-of-type {\n",
       "        vertical-align: middle;\n",
       "    }\n",
       "\n",
       "    .dataframe tbody tr th {\n",
       "        vertical-align: top;\n",
       "    }\n",
       "\n",
       "    .dataframe thead th {\n",
       "        text-align: right;\n",
       "    }\n",
       "</style>\n",
       "<table border=\"1\" class=\"dataframe\">\n",
       "  <thead>\n",
       "    <tr style=\"text-align: right;\">\n",
       "      <th></th>\n",
       "      <th>review</th>\n",
       "      <th>sentiment</th>\n",
       "    </tr>\n",
       "  </thead>\n",
       "  <tbody>\n",
       "    <tr>\n",
       "      <th>0</th>\n",
       "      <td>One of the other reviewers has mentioned that ...</td>\n",
       "      <td>positive</td>\n",
       "    </tr>\n",
       "    <tr>\n",
       "      <th>1</th>\n",
       "      <td>A wonderful little production. &lt;br /&gt;&lt;br /&gt;The...</td>\n",
       "      <td>positive</td>\n",
       "    </tr>\n",
       "    <tr>\n",
       "      <th>2</th>\n",
       "      <td>I thought this was a wonderful way to spend ti...</td>\n",
       "      <td>positive</td>\n",
       "    </tr>\n",
       "    <tr>\n",
       "      <th>3</th>\n",
       "      <td>Basically there's a family where a little boy ...</td>\n",
       "      <td>negative</td>\n",
       "    </tr>\n",
       "    <tr>\n",
       "      <th>4</th>\n",
       "      <td>Petter Mattei's \"Love in the Time of Money\" is...</td>\n",
       "      <td>positive</td>\n",
       "    </tr>\n",
       "  </tbody>\n",
       "</table>\n",
       "</div>"
      ],
      "text/plain": [
       "                                              review sentiment\n",
       "0  One of the other reviewers has mentioned that ...  positive\n",
       "1  A wonderful little production. <br /><br />The...  positive\n",
       "2  I thought this was a wonderful way to spend ti...  positive\n",
       "3  Basically there's a family where a little boy ...  negative\n",
       "4  Petter Mattei's \"Love in the Time of Money\" is...  positive"
      ]
     },
     "execution_count": 1,
     "metadata": {},
     "output_type": "execute_result"
    }
   ],
   "source": [
    "import pandas as pd\n",
    "df = pd.read_csv('IMDB Dataset.csv')\n",
    "df.head()"
   ]
  },
  {
   "cell_type": "code",
   "execution_count": 2,
   "metadata": {
    "colab": {
     "base_uri": "https://localhost:8080/"
    },
    "id": "B8dvJuUuM1Dk",
    "outputId": "a53c8380-ce68-4070-8e3e-0a555ed6af4b"
   },
   "outputs": [
    {
     "name": "stderr",
     "output_type": "stream",
     "text": [
      "[nltk_data] Downloading package punkt to\n",
      "[nltk_data]     C:\\Users\\User\\AppData\\Roaming\\nltk_data...\n",
      "[nltk_data]   Unzipping tokenizers\\punkt.zip.\n",
      "[nltk_data] Downloading package punkt_tab to\n",
      "[nltk_data]     C:\\Users\\User\\AppData\\Roaming\\nltk_data...\n",
      "[nltk_data]   Unzipping tokenizers\\punkt_tab.zip.\n"
     ]
    },
    {
     "data": {
      "text/plain": [
       "True"
      ]
     },
     "execution_count": 2,
     "metadata": {},
     "output_type": "execute_result"
    }
   ],
   "source": [
    " # Load all nessessary libraries\n",
    "import pandas as pd\n",
    "import nltk\n",
    "import string\n",
    "import re\n",
    "import numpy as np\n",
    "import matplotlib.pyplot as plt\n",
    "nltk.download('punkt')\n",
    "nltk.download('punkt_tab')"
   ]
  },
  {
   "cell_type": "code",
   "execution_count": 3,
   "metadata": {
    "colab": {
     "base_uri": "https://localhost:8080/"
    },
    "id": "dGVQw-CcLW-p",
    "outputId": "06390282-61eb-49c2-cb62-bcb9b7be7e74"
   },
   "outputs": [
    {
     "name": "stdout",
     "output_type": "stream",
     "text": [
      "                                                  review  \\\n",
      "0      One of the other reviewers has mentioned that ...   \n",
      "1      A wonderful little production. <br /><br />The...   \n",
      "2      I thought this was a wonderful way to spend ti...   \n",
      "3      Basically there's a family where a little boy ...   \n",
      "4      Petter Mattei's \"Love in the Time of Money\" is...   \n",
      "...                                                  ...   \n",
      "49995  I thought this movie did a down right good job...   \n",
      "49996  Bad plot, bad dialogue, bad acting, idiotic di...   \n",
      "49997  I am a Catholic taught in parochial elementary...   \n",
      "49998  I'm going to have to disagree with the previou...   \n",
      "49999  No one expects the Star Trek movies to be high...   \n",
      "\n",
      "                                     preprocessed_review  \n",
      "0      [one, of, the, other, reviewers, has, mentione...  \n",
      "1      [a, wonderful, little, production, br, br, the...  \n",
      "2      [i, thought, this, was, a, wonderful, way, to,...  \n",
      "3      [basically, theres, a, family, where, a, littl...  \n",
      "4      [petter, matteis, love, in, the, time, of, mon...  \n",
      "...                                                  ...  \n",
      "49995  [i, thought, this, movie, did, a, down, right,...  \n",
      "49996  [bad, plot, bad, dialogue, bad, acting, idioti...  \n",
      "49997  [i, am, a, catholic, taught, in, parochial, el...  \n",
      "49998  [im, going, to, have, to, disagree, with, the,...  \n",
      "49999  [no, one, expects, the, star, trek, movies, to...  \n",
      "\n",
      "[50000 rows x 2 columns]\n"
     ]
    }
   ],
   "source": [
    "# Data preprocessing\n",
    "def preprocess_text(text):\n",
    "    # Convert text to lowercase\n",
    "    text = text.lower()\n",
    "    # Remove punctuation and special characters\n",
    "    text = re.sub(r'[^\\w\\s]', '', text)\n",
    "    # Tokenize into sentences\n",
    "    sentences = nltk.sent_tokenize(text)\n",
    "    # Tokenize each sentence into words\n",
    "    words = [nltk.word_tokenize(sentence) for sentence in sentences]\n",
    "\n",
    " # Flatten tokens from all sentences into one list\n",
    "    words = []\n",
    "    for sentence in sentences:\n",
    "        words.extend(nltk.word_tokenize(sentence))\n",
    "    return words\n",
    "\n",
    "# Apply preprocessing to the 'review' column\n",
    "df['preprocessed_review'] = df['review'].apply(preprocess_text)\n",
    "\n",
    "# Show the result\n",
    "print(df[['review', 'preprocessed_review']])\n"
   ]
  },
  {
   "cell_type": "markdown",
   "metadata": {
    "id": "7QHSXGyWxCRt"
   },
   "source": [
    "I flatten tokens from all sentences into one list to simplify further processing.\n",
    " Instead of keeping a list of token lists (one per sentence), flattening combines\n",
    " all tokens into a single list. This makes it easier to perform operations like\n",
    " frequency counts, or feeding tokens into models that expect a flat list.\n"
   ]
  },
  {
   "cell_type": "markdown",
   "metadata": {
    "id": "DjoiUXltPYZr"
   },
   "source": [
    "#### **Step 2: Implement N-Gram Models**"
   ]
  },
  {
   "cell_type": "code",
   "execution_count": 5,
   "metadata": {
    "colab": {
     "base_uri": "https://localhost:8080/"
    },
    "id": "Yn3MLbTjPkKL",
    "outputId": "7a9c62af-c989-4736-ccee-93236a1dea50"
   },
   "outputs": [
    {
     "name": "stdout",
     "output_type": "stream",
     "text": [
      "Top 10 1-grams Frequency:\n",
      "('the',): 663837\n",
      "('and',): 320662\n",
      "('a',): 320520\n",
      "('of',): 288382\n",
      "('to',): 266774\n",
      "('is',): 210152\n",
      "('in',): 184865\n",
      "('it',): 152901\n",
      "('i',): 152091\n",
      "('this',): 149405\n",
      "\n",
      "Top 10 2-grams Frequency:\n",
      "('of', 'the'): 77006\n",
      "('in', 'the'): 50050\n",
      "('this', 'movie'): 30381\n",
      "('and', 'the'): 26385\n",
      "('is', 'a'): 26025\n",
      "('the', 'film'): 24329\n",
      "('to', 'the'): 23639\n",
      "('to', 'be'): 23225\n",
      "('the', 'movie'): 22436\n",
      "('this', 'film'): 20955\n",
      "\n",
      "Top 10 3-grams Frequency:\n",
      "('one', 'of', 'the'): 9781\n",
      "('this', 'movie', 'is'): 5193\n",
      "('this', 'is', 'a'): 4741\n",
      "('a', 'lot', 'of'): 4676\n",
      "('of', 'the', 'film'): 4640\n",
      "('of', 'the', 'movie'): 4031\n",
      "('some', 'of', 'the'): 3757\n",
      "('the', 'film', 'is'): 3650\n",
      "('is', 'one', 'of'): 3540\n",
      "('this', 'film', 'is'): 3462\n",
      "\n",
      "Top 10 4-grams Frequency:\n",
      "('is', 'one', 'of', 'the'): 2224\n",
      "('the', 'rest', 'of', 'the'): 1999\n",
      "('one', 'of', 'the', 'most'): 1653\n",
      "('one', 'of', 'the', 'best'): 1556\n",
      "('the', 'end', 'of', 'the'): 1401\n",
      "('this', 'is', 'one', 'of'): 1244\n",
      "('i', 'have', 'ever', 'seen'): 1195\n",
      "('at', 'the', 'same', 'time'): 959\n",
      "('one', 'of', 'the', 'worst'): 902\n",
      "('if', 'you', 'want', 'to'): 886\n",
      "\n"
     ]
    }
   ],
   "source": [
    "import heapq\n",
    "import nltk\n",
    "from collections import defaultdict\n",
    "\n",
    "# Function to generate n-grams from a list of tokenized reviews\n",
    "def generate_ngrams_from_corpus(corpus, n):\n",
    "    all_ngrams = []\n",
    "    for tokens in corpus:\n",
    "        all_ngrams.extend(nltk.ngrams(tokens, n))\n",
    "    return all_ngrams\n",
    "\n",
    "# Function to count frequencies of all n-grams\n",
    "def ngram_frequency_from_corpus(corpus, n):\n",
    "    ngrams_list = generate_ngrams_from_corpus(corpus, n)\n",
    "    ngram_freq_dict = defaultdict(int)\n",
    "\n",
    "    for ngram in ngrams_list:\n",
    "        ngram_freq_dict[ngram] += 1\n",
    "\n",
    "    return dict(ngram_freq_dict)\n",
    "\n",
    "# Assuming you already have tokenized reviews\n",
    "df['tokens'] = df['review'].apply(lambda x: preprocess_text(str(x)))\n",
    "\n",
    "tokenized_reviews = df['tokens'].tolist()\n",
    "\n",
    "for n in range(1, 5):\n",
    "    freq_dict = ngram_frequency_from_corpus(tokenized_reviews, n)\n",
    "    top_10_ngrams = heapq.nlargest(10, freq_dict.items(), key=lambda x: x[1])\n",
    "\n",
    "    print(f\"Top 10 {n}-grams Frequency:\")\n",
    "    for ngram, freq in top_10_ngrams:\n",
    "        print(f\"{ngram}: {freq}\")\n",
    "    print()  # blank line for readability\n",
    "\n",
    "# Loop over n = 1 to 4, get frequencies, and print nicely\n",
    "#for n in range(1, 5):\n",
    "    #freq_dict = ngram_frequency_from_corpus(tokenized_reviews, n)\n",
    "    #print(f\"{n}-Grams Frequency:\")\n",
    "    #print(freq_dict)\n",
    "    #print()\n"
   ]
  },
  {
   "cell_type": "markdown",
   "metadata": {
    "id": "Aqv1GwGHvY5-"
   },
   "source": [
    "The section of the code that is commented out was originally intended to display the full output. However, due to the very large size of the output, Google Colab was unable to handle it efficiently and only stopped after computing the 1-gram frequency after 10+ miniutes. To manage this, I opted to limit the examples to only the first 10 results for each case in the code. This approach ensures that the code runs smoothly while still demonstrating the key concepts."
   ]
  },
  {
   "cell_type": "code",
   "execution_count": 6,
   "metadata": {
    "colab": {
     "base_uri": "https://localhost:8080/"
    },
    "id": "3FEOFXc3fCQe",
    "outputId": "74f60140-32fc-4930-da5d-8c00385ef6cd"
   },
   "outputs": [
    {
     "name": "stdout",
     "output_type": "stream",
     "text": [
      "Top 10 1-gram Probabilities:\n",
      "('the',): 0.0577\n",
      "('and',): 0.0279\n",
      "('a',): 0.0278\n",
      "('of',): 0.0250\n",
      "('to',): 0.0232\n",
      "('is',): 0.0183\n",
      "('in',): 0.0161\n",
      "('it',): 0.0133\n",
      "('i',): 0.0132\n",
      "('this',): 0.0130\n",
      "\n",
      "Top 10 2-gram Probabilities:\n",
      "('mebr', 'br'): 1.0000\n",
      "('wordbr', 'br'): 1.0000\n",
      "('manyaryans', 'muslims'): 1.0000\n",
      "('awaybr', 'br'): 1.0000\n",
      "('romanceoz', 'doesnt'): 1.0000\n",
      "('viewingthats', 'if'): 1.0000\n",
      "('oldtimebbc', 'fashion'): 1.0000\n",
      "('polari', 'but'): 1.0000\n",
      "('halliwells', 'murals'): 1.0000\n",
      "('lovebr', 'br'): 1.0000\n",
      "\n",
      "Top 10 3-gram Probabilities:\n",
      "('1', 'oz', 'episode'): 1.0000\n",
      "('oz', 'episode', 'youll'): 1.0000\n",
      "('hooked', 'they', 'are'): 1.0000\n",
      "('with', 'mebr', 'br'): 1.0000\n",
      "('unflinching', 'scenes', 'of'): 1.0000\n",
      "('go', 'trust', 'me'): 1.0000\n",
      "('or', 'timid', 'this'): 1.0000\n",
      "('timid', 'this', 'show'): 1.0000\n",
      "('show', 'pulls', 'no'): 1.0000\n",
      "('is', 'hardcore', 'in'): 1.0000\n",
      "\n",
      "Top 10 4-gram Probabilities:\n",
      "('other', 'reviewers', 'has', 'mentioned'): 1.0000\n",
      "('reviewers', 'has', 'mentioned', 'that'): 1.0000\n",
      "('mentioned', 'that', 'after', 'watching'): 1.0000\n",
      "('after', 'watching', 'just', '1'): 1.0000\n",
      "('watching', 'just', '1', 'oz'): 1.0000\n",
      "('just', '1', 'oz', 'episode'): 1.0000\n",
      "('1', 'oz', 'episode', 'youll'): 1.0000\n",
      "('oz', 'episode', 'youll', 'be'): 1.0000\n",
      "('episode', 'youll', 'be', 'hooked'): 1.0000\n",
      "('be', 'hooked', 'they', 'are'): 1.0000\n",
      "\n"
     ]
    }
   ],
   "source": [
    "import nltk\n",
    "from collections import defaultdict\n",
    "\n",
    "# Generate all n-grams\n",
    "def generate_ngrams_from_corpus(corpus, n):\n",
    "    all_ngrams = []\n",
    "    for tokens in corpus:\n",
    "        all_ngrams.extend(nltk.ngrams(tokens, n))\n",
    "    return all_ngrams\n",
    "\n",
    "# Count frequencies of n-grams\n",
    "def ngram_frequency_from_corpus(corpus, n):\n",
    "    ngrams_list = generate_ngrams_from_corpus(corpus, n)\n",
    "    freq_dict = defaultdict(int)\n",
    "    for ngram in ngrams_list:\n",
    "        freq_dict[ngram] += 1\n",
    "    return dict(freq_dict)\n",
    "\n",
    "# Calculate n-gram probabilities using the formula:\n",
    "# P(w_n | w_1, ..., w_{n-1}) = C(w_1,...,w_n) / C(w_1,...,w_{n-1})\n",
    "def ngram_probabilities_from_corpus(corpus, n):\n",
    "    ngram_freq = ngram_frequency_from_corpus(corpus, n)\n",
    "\n",
    "    if n == 1:\n",
    "        total_unigrams = sum(ngram_freq.values())\n",
    "        return {ngram: count / total_unigrams for ngram, count in ngram_freq.items()}\n",
    "    else:\n",
    "        n_minus_1_gram_freq = ngram_frequency_from_corpus(corpus, n-1)\n",
    "        probs = {}\n",
    "        for ngram, count in ngram_freq.items():\n",
    "            prefix = ngram[:-1]  # all but last word\n",
    "            prefix_count = n_minus_1_gram_freq.get(prefix, 1)  # smoothing to avoid division by zero\n",
    "            probs[ngram] = count / prefix_count\n",
    "        return probs\n",
    "\n",
    "# Example usage\n",
    "\n",
    "df['tokens'] = df['review'].apply(lambda x: preprocess_text(str(x)))\n",
    "tokenized_reviews = df['tokens'].tolist()\n",
    "\n",
    "import heapq\n",
    "\n",
    "for n in range(1, 5):\n",
    "    probs = ngram_probabilities_from_corpus(tokenized_reviews, n)\n",
    "    top_10 = heapq.nlargest(10, probs.items(), key=lambda x: x[1])\n",
    "\n",
    "    print(f\"Top 10 {n}-gram Probabilities:\")\n",
    "    for ngram, prob in top_10:\n",
    "        print(f\"{ngram}: {prob:.4f}\")\n",
    "    print()\n"
   ]
  },
  {
   "cell_type": "markdown",
   "metadata": {
    "id": "tZrk1ZfGhvMi"
   },
   "source": [
    "#### **Step 3: Apply Smoothing Techniques**"
   ]
  },
  {
   "cell_type": "code",
   "execution_count": 7,
   "metadata": {
    "colab": {
     "base_uri": "https://localhost:8080/"
    },
    "id": "K6K4JawrhvtO",
    "outputId": "2609ece5-f7bf-460b-c217-a5e3a7ad69b8"
   },
   "outputs": [
    {
     "name": "stdout",
     "output_type": "stream",
     "text": [
      "=== Laplace Smoothing ===\n",
      "Top 10 1-grams with Laplace smoothing:\n",
      "('the',): 0.0568\n",
      "('and',): 0.0274\n",
      "('a',): 0.0274\n",
      "('of',): 0.0247\n",
      "('to',): 0.0228\n",
      "('is',): 0.0180\n",
      "('in',): 0.0158\n",
      "('it',): 0.0131\n",
      "('i',): 0.0130\n",
      "('this',): 0.0128\n",
      "\n",
      "Top 10 2-grams with Laplace smoothing:\n",
      "('of', 'the'): 0.1640\n",
      "('in', 'the'): 0.1368\n",
      "('this', 'movie'): 0.0919\n",
      "('on', 'the'): 0.0720\n",
      "('one', 'of'): 0.0696\n",
      "('is', 'a'): 0.0665\n",
      "('this', 'film'): 0.0634\n",
      "('at', 'the'): 0.0597\n",
      "('for', 'the'): 0.0593\n",
      "('with', 'the'): 0.0586\n",
      "\n",
      "=== Good-Turing Discounting ===\n",
      "Top 10 1-grams with Good-Turing discounting:\n",
      "('the',): 0.0582\n",
      "('and',): 0.0281\n",
      "('a',): 0.0281\n",
      "('of',): 0.0253\n",
      "('to',): 0.0234\n",
      "('is',): 0.0184\n",
      "('in',): 0.0162\n",
      "('it',): 0.0134\n",
      "('i',): 0.0133\n",
      "('this',): 0.0131\n",
      "\n",
      "Top 10 2-grams with Good-Turing discounting:\n",
      "('UNSEEN',): 0.1541\n",
      "('of', 'the'): 0.0079\n",
      "('in', 'the'): 0.0052\n",
      "('this', 'movie'): 0.0031\n",
      "('and', 'the'): 0.0027\n",
      "('is', 'a'): 0.0027\n",
      "('the', 'film'): 0.0025\n",
      "('to', 'the'): 0.0024\n",
      "('to', 'be'): 0.0024\n",
      "('the', 'movie'): 0.0023\n",
      "\n",
      "=== Kneser-Ney Smoothing (bigrams only) ===\n",
      "Top 10 bigrams with Kneser-Ney smoothing:\n",
      "('itbr', 'br'): 0.9996\n",
      "('moviebr', 'br'): 0.9996\n",
      "('filmbr', 'br'): 0.9995\n",
      "('timebr', 'br'): 0.9989\n",
      "('thembr', 'br'): 0.9987\n",
      "('thisbr', 'br'): 0.9985\n",
      "('himbr', 'br'): 0.9984\n",
      "('allbr', 'br'): 0.9984\n",
      "('onebr', 'br'): 0.9984\n",
      "('mebr', 'br'): 0.9984\n"
     ]
    }
   ],
   "source": [
    "import nltk\n",
    "from collections import defaultdict, Counter\n",
    "import heapq\n",
    "\n",
    "# Frequency functions\n",
    "\n",
    "def generate_ngrams_from_corpus(corpus, n):\n",
    "    all_ngrams = []\n",
    "    for tokens in corpus:\n",
    "        all_ngrams.extend(nltk.ngrams(tokens, n))\n",
    "    return all_ngrams\n",
    "\n",
    "def ngram_frequency_from_corpus(corpus, n):\n",
    "    ngrams_list = generate_ngrams_from_corpus(corpus, n)\n",
    "    freq_dict = defaultdict(int)\n",
    "    for ngram in ngrams_list:\n",
    "        freq_dict[ngram] += 1\n",
    "    return dict(freq_dict)\n",
    "\n",
    "# 1. Laplace (Add-One) smoothing\n",
    "\n",
    "def laplace_smoothing_probs(corpus, n):\n",
    "    ngram_freq = ngram_frequency_from_corpus(corpus, n)\n",
    "    vocabulary = set(word for review in corpus for word in review)\n",
    "    V = len(vocabulary)\n",
    "\n",
    "    if n == 1:\n",
    "        total_unigrams = sum(ngram_freq.values())\n",
    "        probs = {}\n",
    "        for unigram in vocabulary:\n",
    "            count = ngram_freq.get((unigram,), 0)\n",
    "            probs[(unigram,)] = (count + 1) / (total_unigrams + V)\n",
    "        return probs\n",
    "    else:\n",
    "        n_minus_1_gram_freq = ngram_frequency_from_corpus(corpus, n-1)\n",
    "        probs = {}\n",
    "        for ngram in ngram_freq:\n",
    "            prefix = ngram[:-1]\n",
    "            prefix_count = n_minus_1_gram_freq.get(prefix, 0)\n",
    "            count = ngram_freq.get(ngram, 0)\n",
    "            probs[ngram] = (count + 1) / (prefix_count + V)\n",
    "        return probs\n",
    "\n",
    "# 2. Good-Turing discounting (simplified)\n",
    "\n",
    "def good_turing_probs(corpus, n):\n",
    "    ngram_freq = ngram_frequency_from_corpus(corpus, n)\n",
    "    freq_of_freq = Counter(ngram_freq.values())  # counts of counts\n",
    "\n",
    "    N = sum(ngram_freq.values())\n",
    "    max_count = max(freq_of_freq.keys()) if freq_of_freq else 0\n",
    "\n",
    "    adjusted_counts = {}\n",
    "    for ngram, c in ngram_freq.items():\n",
    "        c_next = c + 1\n",
    "        N_c = freq_of_freq.get(c, 0)\n",
    "        N_c_next = freq_of_freq.get(c_next, 0)\n",
    "        if N_c > 0 and N_c_next > 0:\n",
    "            c_star = c_next * (N_c_next / N_c)\n",
    "        else:\n",
    "            c_star = c\n",
    "        adjusted_counts[ngram] = c_star\n",
    "\n",
    "    total_c_star = sum(adjusted_counts.values())\n",
    "    probs = {ngram: c_star / total_c_star for ngram, c_star in adjusted_counts.items()}\n",
    "\n",
    "    # Probability mass for unseen n-grams (with count zero)\n",
    "    N1 = freq_of_freq.get(1, 0)\n",
    "    unseen_prob = N1 / N if N > 0 else 0\n",
    "    probs[('UNSEEN',)] = unseen_prob\n",
    "\n",
    "    return probs\n",
    "\n",
    "# 3. Kneser-Ney smoothing (bigram version only)\n",
    "\n",
    "def kneser_ney_bigram_probs(corpus, D=0.75):\n",
    "    bigram_freq = ngram_frequency_from_corpus(corpus, 2)\n",
    "    unigram_freq = ngram_frequency_from_corpus(corpus, 1)\n",
    "\n",
    "    # Calculate continuation counts: number of unique bigrams where w appears as second word\n",
    "    continuation_counts = defaultdict(int)\n",
    "    for (w1, w2) in bigram_freq:\n",
    "        continuation_counts[w2] += 1\n",
    "\n",
    "    total_unique_bigrams = len(bigram_freq)\n",
    "\n",
    "    # Calculate lambda normalization for each w1\n",
    "    lambda_w1 = defaultdict(float)\n",
    "    for (w1, w2), c in bigram_freq.items():\n",
    "        unigram_count = unigram_freq.get((w1,), 0)\n",
    "        if unigram_count > 0:\n",
    "            lambda_w1[w1] += D / unigram_count\n",
    "\n",
    "    # Calculate Kneser-Ney probabilities\n",
    "    probs = {}\n",
    "    for (w1, w2), c in bigram_freq.items():\n",
    "        unigram_count = unigram_freq.get((w1,), 0)\n",
    "        discounted_count = max(c - D, 0)\n",
    "        lower_order_prob = continuation_counts[w2] / total_unique_bigrams if total_unique_bigrams > 0 else 0\n",
    "        if unigram_count > 0:\n",
    "            prob = (discounted_count / unigram_count) + (lambda_w1[w1] * lower_order_prob)\n",
    "        else:\n",
    "            prob = lower_order_prob\n",
    "        probs[(w1, w2)] = prob\n",
    "\n",
    "    return probs\n",
    "\n",
    "# Example usage\n",
    "\n",
    "df['tokens'] = df['review'].apply(lambda x: preprocess_text(str(x)))\n",
    "tokenized_reviews = df['tokens'].tolist()\n",
    "\n",
    "print(\"=== Laplace Smoothing ===\")\n",
    "for n in range(1, 3):  # unigrams and bigrams example\n",
    "    laplace_probs = laplace_smoothing_probs(tokenized_reviews, n)\n",
    "    top_10 = heapq.nlargest(10, laplace_probs.items(), key=lambda x: x[1])\n",
    "    print(f\"Top 10 {n}-grams with Laplace smoothing:\")\n",
    "    for ngram, prob in top_10:\n",
    "        print(f\"{ngram}: {prob:.4f}\")\n",
    "    print()\n",
    "\n",
    "print(\"=== Good-Turing Discounting ===\")\n",
    "for n in range(1, 3):\n",
    "    gt_probs = good_turing_probs(tokenized_reviews, n)\n",
    "    top_10 = heapq.nlargest(10, gt_probs.items(), key=lambda x: x[1])\n",
    "    print(f\"Top 10 {n}-grams with Good-Turing discounting:\")\n",
    "    for ngram, prob in top_10:\n",
    "        print(f\"{ngram}: {prob:.4f}\")\n",
    "    print()\n",
    "\n",
    "print(\"=== Kneser-Ney Smoothing (bigrams only) ===\")\n",
    "kn_probs = kneser_ney_bigram_probs(tokenized_reviews)\n",
    "top_10 = heapq.nlargest(10, kn_probs.items(), key=lambda x: x[1])\n",
    "print(\"Top 10 bigrams with Kneser-Ney smoothing:\")\n",
    "for ngram, prob in top_10:\n",
    "    print(f\"{ngram}: {prob:.4f}\")\n",
    "\n"
   ]
  },
  {
   "cell_type": "markdown",
   "metadata": {
    "id": "RGC04l_-kqgL"
   },
   "source": [
    "#### **Step 4: Evaluate Model Performance**"
   ]
  },
  {
   "cell_type": "code",
   "execution_count": 8,
   "metadata": {
    "colab": {
     "base_uri": "https://localhost:8080/"
    },
    "id": "5My-_7IrkvTn",
    "outputId": "5efb4496-9ea2-484f-a9b5-8a6ac4673a6c"
   },
   "outputs": [
    {
     "name": "stdout",
     "output_type": "stream",
     "text": [
      "=== Cross-Validation Perplexity Comparison ===\n",
      "1-gram Laplace Perplexity: 1311.9206\n",
      "1-gram Good-Turing Perplexity: 1158.9187\n",
      "2-gram Laplace Perplexity: 11033.6702\n",
      "2-gram Good-Turing Perplexity: 15809.6102\n",
      "Bigram Kneser-Ney Perplexity: 1378.5364\n"
     ]
    }
   ],
   "source": [
    "import math\n",
    "\n",
    "# Perplexity Calculation\n",
    "def calculate_perplexity(test_corpus, probs, n, smoothing_type=\"laplace\"):\n",
    "    N = sum(len(tokens) for tokens in test_corpus)\n",
    "    log_prob_sum = 0\n",
    "    unseen_prob = probs.get(('UNSEEN',), 1e-8)  # For Good-Turing\n",
    "\n",
    "    for tokens in test_corpus:\n",
    "        ngrams = list(nltk.ngrams(tokens, n)) if len(tokens) >= n else []\n",
    "        for ngram in ngrams:\n",
    "            prob = probs.get(ngram, 0)\n",
    "            if prob == 0:\n",
    "                if smoothing_type == \"laplace\":\n",
    "                    prob = 1e-8\n",
    "                elif smoothing_type == \"good_turing\":\n",
    "                    prob = unseen_prob\n",
    "                else:\n",
    "                    prob = 1e-8\n",
    "            log_prob_sum += math.log(prob)\n",
    "\n",
    "    avg_log_prob = log_prob_sum / N if N > 0 else float('-inf')\n",
    "    perplexity = math.exp(-avg_log_prob)\n",
    "    return perplexity\n",
    "\n",
    "from sklearn.model_selection import KFold\n",
    "import numpy as np\n",
    "\n",
    "# Cross Validation Perplexity\n",
    "def cross_validate_perplexity(corpus, n, smoothing_func, smoothing_type, k=5):\n",
    "    kf = KFold(n_splits=k, shuffle=True, random_state=42)\n",
    "    perplexities = []\n",
    "\n",
    "    corpus_array = np.array(corpus, dtype=object)\n",
    "\n",
    "    for train_index, test_index in kf.split(corpus_array):\n",
    "        train_data = corpus_array[train_index].tolist()\n",
    "        test_data = corpus_array[test_index].tolist()\n",
    "\n",
    "        probs = smoothing_func(train_data, n)\n",
    "        perp = calculate_perplexity(test_data, probs, n, smoothing_type=smoothing_type)\n",
    "        perplexities.append(perp)\n",
    "\n",
    "    avg_perplexity = np.mean(perplexities)\n",
    "    return avg_perplexity\n",
    "\n",
    "print(\"=== Cross-Validation Perplexity Comparison ===\")\n",
    "for n in [1, 2]:\n",
    "    laplace_perp = cross_validate_perplexity(tokenized_reviews, n, laplace_smoothing_probs, \"laplace\")\n",
    "    gt_perp = cross_validate_perplexity(tokenized_reviews, n, good_turing_probs, \"good_turing\")\n",
    "\n",
    "    print(f\"{n}-gram Laplace Perplexity: {laplace_perp:.4f}\")\n",
    "    print(f\"{n}-gram Good-Turing Perplexity: {gt_perp:.4f}\")\n",
    "\n",
    "kn_perp = cross_validate_perplexity(tokenized_reviews, 2, kneser_ney_bigram_probs, \"kneser_ney\")\n",
    "print(f\"Bigram Kneser-Ney Perplexity: {kn_perp:.4f}\")\n"
   ]
  },
  {
   "cell_type": "markdown",
   "metadata": {
    "id": "5Ptb2QOvyTa_"
   },
   "source": [
    "**In this code:**\n",
    "\n",
    "- **Perplexity** quantifies how “surprised” the model is by the test data:\n",
    "\n",
    "  - Lower perplexity means the model better predicts the test data distribution.\n",
    "\n",
    "- **Cross-validation** provides a robust estimate of model performance by testing on multiple splits of the data, avoiding overfitting.\n",
    "\n",
    "- Comparing different smoothing methods (Laplace, Good-Turing, Kneser-Ney) helps identify which method best smooths probabilities and improves model generalization.\n",
    "\n"
   ]
  },
  {
   "cell_type": "markdown",
   "metadata": {
    "id": "S6PNOxlHls_j"
   },
   "source": [
    "#### **Step 5: Visualization and Analysis**"
   ]
  },
  {
   "cell_type": "code",
   "execution_count": 9,
   "metadata": {
    "colab": {
     "base_uri": "https://localhost:8080/",
     "height": 601
    },
    "id": "kivKlYdIl3U7",
    "outputId": "3bd0dad3-38b5-4a39-eb15-f775277ff4f0"
   },
   "outputs": [
    {
     "data": {
      "image/png": "[encoded data removed]",
      "text/plain": [
       "<Figure size 1000x600 with 1 Axes>"
      ]
     },
     "metadata": {},
     "output_type": "display_data"
    }
   ],
   "source": [
    "# Store perplexity results\n",
    "perplexity_results = {\n",
    "    \"n-gram\": [],\n",
    "    \"Technique\": [],\n",
    "    \"Perplexity\": []\n",
    "}\n",
    "\n",
    "for n in [1, 2]:\n",
    "    laplace_perp = cross_validate_perplexity(tokenized_reviews, n, laplace_smoothing_probs, \"laplace\")\n",
    "    gt_perp = cross_validate_perplexity(tokenized_reviews, n, good_turing_probs, \"good_turing\")\n",
    "\n",
    "    perplexity_results[\"n-gram\"].extend([f\"{n}-gram\", f\"{n}-gram\"])\n",
    "    perplexity_results[\"Technique\"].extend([\"Laplace\", \"Good-Turing\"])\n",
    "    perplexity_results[\"Perplexity\"].extend([laplace_perp, gt_perp])\n",
    "\n",
    "# Add Kneser-Ney bigram\n",
    "kn_perp = cross_validate_perplexity(tokenized_reviews, 2, kneser_ney_bigram_probs, \"kneser_ney\")\n",
    "perplexity_results[\"n-gram\"].append(\"2-gram\")\n",
    "perplexity_results[\"Technique\"].append(\"Kneser-Ney\")\n",
    "perplexity_results[\"Perplexity\"].append(kn_perp)\n",
    "\n",
    "\n",
    "# Plot with Matplotlib\n",
    "import matplotlib.pyplot as plt\n",
    "import pandas as pd\n",
    "import seaborn as sns\n",
    "\n",
    "# Create DataFrame from results\n",
    "df_perplexity = pd.DataFrame(perplexity_results)\n",
    "\n",
    "# Set plot style\n",
    "sns.set(style=\"whitegrid\")\n",
    "\n",
    "# Plot grouped bar chart\n",
    "plt.figure(figsize=(10, 6))\n",
    "sns.barplot(x=\"n-gram\", y=\"Perplexity\", hue=\"Technique\", data=df_perplexity)\n",
    "\n",
    "# Customize the plot\n",
    "plt.title(\"Perplexity Comparison by N-gram and Smoothing Technique\")\n",
    "plt.ylabel(\"Perplexity (Lower is Better)\")\n",
    "plt.xlabel(\"N-gram Size\")\n",
    "plt.legend(title=\"Smoothing Technique\")\n",
    "plt.tight_layout()\n",
    "plt.show()\n"
   ]
  },
  {
   "cell_type": "markdown",
   "metadata": {
    "id": "5l8siVt0sPUy"
   },
   "source": [
    "**X-axis:**\n",
    "\n",
    "The X-axis represents different language models, each combining an n-gram size (either 1-gram or 2-gram) with a smoothing technique.\n",
    "\n",
    "**Y-axis:**\n",
    "\n",
    "The Y-axis represents perplexity scores, which measure how well a language model predicts a sequence of words.\n",
    "\n",
    "- Lower values on the Y-axis indicate better model performance, as the model is less \"confused\" when predicting words.\n",
    "\n",
    "- Higher perplexity indicates worse performance, often due to poor handling of rare or unseen word sequences.\n",
    "\n",
    "**Unigram Model with Laplace and Good-Turing Smoothing**\n",
    "\n",
    "In the unigram models, Good-Turing smoothing performed better with a perplexity of 1158.92, compared to Laplace’s 1311.92. This shows that Good-Turing more effectively distributes probability to unseen words, which is critical in real-world text where many low-frequency words occur. However, a major limitation of the unigram model is that it completely ignores word order and context. Every word is treated independently, which significantly reduces its ability to capture grammatical structure or meaning in a sequence. Therefore, while good for baseline comparisons or small datasets, unigram models are unsuitable for tasks that require contextual understanding.\n",
    "\n",
    "**Bigram Model with Laplace and Good-Turing Smoothing**\n",
    "\n",
    "The bigram models with Laplace (11033.67) and Good-Turing (15809.61) smoothing exhibited very high perplexity, suggesting poor performance. These results reflect the challenge of data sparsity in bigram models, where many possible word pairs never occur in the training set. While Laplace and Good-Turing try to assign probabilities to unseen bigrams, they are not well-suited to higher-order n-grams because they over-penalize frequent n-grams and spread probabilities too thinly across unlikely combinations. A key limitation here is that these smoothing methods do not effectively model the true distribution of word sequences in natural language when vocabulary is large or data is limited.\n",
    "\n",
    "**Bigram Model with Kneser-Ney Smoothing**\n",
    "\n",
    "The bigram model with Kneser-Ney smoothing had a much lower perplexity of 1378.54, outperforming the other bigram models significantly. Kneser-Ney excels in modeling continuation probabilities, helping it assign more realistic probabilities to rare bigrams that contain common continuation words. This allows it to maintain lower perplexity despite the added complexity of bigram modeling. Its main limitation, however, is computational complexity—Kneser-Ney is more difficult to implement and requires more memory and computation than simpler methods. Additionally, its effectiveness relies heavily on having sufficient training data to estimate continuation probabilities accurately.\n",
    "\n",
    "**Trade-offs Between Model Complexity and Performance**\n",
    "\n",
    "The results illustrate a clear trade-off between model complexity and performance. The unigram model with Good-Turing smoothing is computationally simple and yields the best perplexity overall, but it fails to capture any word-to-word dependencies. On the other hand, the bigram model with Kneser-Ney smoothing adds a layer of complexity by incorporating context, and although its perplexity is slightly higher, it offers better linguistic modeling capabilities."
   ]
  },
  {
   "cell_type": "code",
   "execution_count": 10,
   "metadata": {
    "colab": {
     "base_uri": "https://localhost:8080/",
     "height": 601
    },
    "id": "aMdM-q-Bzb01",
    "outputId": "3886ca65-5016-47fd-f6ee-1f4162e67f26"
   },
   "outputs": [
    {
     "data": {
      "image/png": "[encoded data removed]",
      "text/plain": [
       "<Figure size 1000x600 with 1 Axes>"
      ]
     },
     "metadata": {},
     "output_type": "display_data"
    }
   ],
   "source": [
    "import matplotlib.pyplot as plt\n",
    "\n",
    "# Sample perplexity results from the project\n",
    "perplexity_results = {\n",
    "    '1-gram': {\n",
    "        'Laplace': 1311.9206,\n",
    "        'Good-Turing': 1158.9187\n",
    "    },\n",
    "    '2-gram': {\n",
    "        'Laplace': 11033.6702,\n",
    "        'Good-Turing': 15809.6102,\n",
    "        'Kneser-Ney': 1378.5364\n",
    "    }\n",
    "}\n",
    "\n",
    "# Prepare data for plotting\n",
    "ngram_sizes = sorted(set(k.split('-')[0] for k in perplexity_results))\n",
    "smoothing_methods = ['Laplace', 'Good-Turing', 'Kneser-Ney']\n",
    "\n",
    "# Initialize the plot\n",
    "plt.figure(figsize=(10, 6))\n",
    "\n",
    "# Plot each smoothing method across n-gram sizes\n",
    "for method in smoothing_methods:\n",
    "    y = []\n",
    "    x = []\n",
    "    for ngram in ngram_sizes:\n",
    "        key = f\"{ngram}-gram\"\n",
    "        if method in perplexity_results.get(key, {}):\n",
    "            y.append(perplexity_results[key][method])\n",
    "            x.append(int(ngram))\n",
    "    if x and y:\n",
    "        plt.plot(x, y, marker='o', label=method)\n",
    "\n",
    "# Add plot details\n",
    "plt.title(\"Perplexity by N-gram Size and Smoothing Technique\")\n",
    "plt.xlabel(\"N-gram Size (n)\")\n",
    "plt.ylabel(\"Perplexity\")\n",
    "plt.xticks([1, 2])\n",
    "plt.legend(title=\"Smoothing Method\")\n",
    "plt.grid(True)\n",
    "plt.tight_layout()\n",
    "\n",
    "# Show the plot\n",
    "plt.show()\n"
   ]
  },
  {
   "cell_type": "markdown",
   "metadata": {
    "id": "CcGnTpgEztfR"
   },
   "source": [
    "To enhance clarity and illustrate trends more effectively, I have provided a line plot alongside the bar chart to offer a better visualization of how perplexity varies across different n-gram sizes and smoothing techniques."
   ]
  },
  {
   "cell_type": "code",
   "execution_count": 11,
   "metadata": {
    "colab": {
     "base_uri": "https://localhost:8080/",
     "height": 549
    },
    "id": "3L_vWD9U08EI",
    "outputId": "f4688183-c393-46f5-86cb-98a0fde5e2d7"
   },
   "outputs": [
    {
     "name": "stdout",
     "output_type": "stream",
     "text": [
      "Number of reviews: 50000\n",
      "Average review length (in tokens): 230.27\n",
      "Total tokens: 11513321\n",
      "Vocabulary size: 181061\n"
     ]
    },
    {
     "data": {
      "image/png": "[encoded data removed]",
      "text/plain": [
       "<Figure size 640x480 with 1 Axes>"
      ]
     },
     "metadata": {},
     "output_type": "display_data"
    }
   ],
   "source": [
    "# Summary stats\n",
    "print(f\"Number of reviews: {len(df)}\")\n",
    "review_lengths = [len(tokens) for tokens in tokenized_reviews]\n",
    "print(f\"Average review length (in tokens): {sum(review_lengths)/len(review_lengths):.2f}\")\n",
    "total_tokens = sum(review_lengths)\n",
    "print(f\"Total tokens: {total_tokens}\")\n",
    "vocab = set(word for review in tokenized_reviews for word in review)\n",
    "print(f\"Vocabulary size: {len(vocab)}\")\n",
    "import matplotlib.pyplot as plt\n",
    "\n",
    "plt.hist(review_lengths, bins=30, color='skyblue', edgecolor='black')\n",
    "plt.title('Distribution of Review Lengths')\n",
    "plt.xlabel('Tokens per Review')\n",
    "plt.ylabel('Frequency')\n",
    "plt.show()"
   ]
  }
 ],
 "metadata": {
  "colab": {
   "provenance": []
  },
  "kernelspec": {
   "display_name": "Python [conda env:base] *",
   "language": "python",
   "name": "conda-base-py"
  },
  "language_info": {
   "codemirror_mode": {
    "name": "ipython",
    "version": 3
   },
   "file_extension": ".py",
   "mimetype": "text/x-python",
   "name": "python",
   "nbconvert_exporter": "python",
   "pygments_lexer": "ipython3",
   "version": "3.13.5"
  }
 },
 "nbformat": 4,
 "nbformat_minor": 4
}
